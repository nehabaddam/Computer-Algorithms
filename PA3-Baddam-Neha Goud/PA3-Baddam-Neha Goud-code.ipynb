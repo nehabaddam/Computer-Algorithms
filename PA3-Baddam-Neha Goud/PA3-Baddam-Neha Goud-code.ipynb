{
 "cells": [
  {
   "cell_type": "markdown",
   "id": "91bf7bfe",
   "metadata": {},
   "source": [
    "# CSCE 5150 – Analysis of Computer Algorithms\n",
    "# Programming Assignment 3 – Greedy Alogithm\n",
    "# Neha Goud Baddam\n",
    "# 11519516"
   ]
  },
  {
   "cell_type": "code",
   "execution_count": 20,
   "id": "66cea44c",
   "metadata": {},
   "outputs": [],
   "source": [
    "def input_():\n",
    "\n",
    "    n = int(input(\"Please enter the amount 'n' : \"))\n",
    "\n",
    "    m = int(input(\"Please enter the number of coin denominations : \"))\n",
    "\n",
    "    d = coin_denominations(m)\n",
    "    coin_changing(m,n,d)\n",
    "\n",
    "\n",
    "def coin_denominations(m): \n",
    "\n",
    "    denominations = []\n",
    "    for i in range(0, m):\n",
    "        deno = int(input())\n",
    "        denominations.append(deno) \n",
    "\n",
    "    denominations.sort(reverse=True)\n",
    "\n",
    "    print(\"The coin denominations are : \",denominations)\n",
    "\n",
    "    return denominations\n",
    "\n",
    "\n",
    "def coin_changing(m,n,deno): \n",
    "    input_ = n\n",
    "    output = []\n",
    "    out = []\n",
    "    for i in range(0, m):\n",
    "        output.append(int(n/deno[i]))\n",
    "        for j in range(0,output[i]):\n",
    "            out.append(deno[i])\n",
    "        n= n%deno[i]\n",
    "        if n==0:\n",
    "            print(\"The coin denominations needed for\",input_, \"are :\",out)\n",
    "            break"
   ]
  },
  {
   "cell_type": "code",
   "execution_count": 21,
   "id": "47677484",
   "metadata": {},
   "outputs": [
    {
     "name": "stdout",
     "output_type": "stream",
     "text": [
      "Please enter the amount 'n' : 67\n",
      "Please enter the number of coin denominations : 4\n",
      "25\n",
      "1\n",
      "5\n",
      "10\n",
      "The coin denominations are :  [25, 10, 5, 1]\n",
      "The coin denominations needed for 67 are : [25, 25, 10, 5, 1, 1]\n"
     ]
    }
   ],
   "source": [
    "input_()"
   ]
  },
  {
   "cell_type": "code",
   "execution_count": 22,
   "id": "aa5c500e",
   "metadata": {},
   "outputs": [
    {
     "name": "stdout",
     "output_type": "stream",
     "text": [
      "Please enter the amount 'n' : 157\n",
      "Please enter the number of coin denominations : 5\n",
      "25\n",
      "1\n",
      "5\n",
      "10\n",
      "50\n",
      "The coin denominations are :  [50, 25, 10, 5, 1]\n",
      "The coin denominations needed for 157 are : [50, 50, 50, 5, 1, 1]\n"
     ]
    }
   ],
   "source": [
    "input_()"
   ]
  },
  {
   "cell_type": "code",
   "execution_count": 23,
   "id": "6a9b08cd",
   "metadata": {},
   "outputs": [
    {
     "name": "stdout",
     "output_type": "stream",
     "text": [
      "Please enter the amount 'n' : 36\n",
      "Please enter the number of coin denominations : 3\n",
      "10\n",
      "1\n",
      "5\n",
      "The coin denominations are :  [10, 5, 1]\n",
      "The coin denominations needed for 36 are : [10, 10, 10, 5, 1]\n"
     ]
    }
   ],
   "source": [
    "input_()"
   ]
  },
  {
   "cell_type": "code",
   "execution_count": 24,
   "id": "567fefac",
   "metadata": {},
   "outputs": [
    {
     "name": "stdout",
     "output_type": "stream",
     "text": [
      "Please enter the amount 'n' : 679\n",
      "Please enter the number of coin denominations : 6\n",
      "100\n",
      "50\n",
      "10\n",
      "25\n",
      "5\n",
      "1\n",
      "The coin denominations are :  [100, 50, 25, 10, 5, 1]\n",
      "The coin denominations needed for 679 are : [100, 100, 100, 100, 100, 100, 50, 25, 1, 1, 1, 1]\n"
     ]
    }
   ],
   "source": [
    "input_()"
   ]
  },
  {
   "cell_type": "code",
   "execution_count": null,
   "id": "5e58566c",
   "metadata": {},
   "outputs": [],
   "source": []
  }
 ],
 "metadata": {
  "kernelspec": {
   "display_name": "Python 3 (ipykernel)",
   "language": "python",
   "name": "python3"
  },
  "language_info": {
   "codemirror_mode": {
    "name": "ipython",
    "version": 3
   },
   "file_extension": ".py",
   "mimetype": "text/x-python",
   "name": "python",
   "nbconvert_exporter": "python",
   "pygments_lexer": "ipython3",
   "version": "3.9.7"
  }
 },
 "nbformat": 4,
 "nbformat_minor": 5
}
