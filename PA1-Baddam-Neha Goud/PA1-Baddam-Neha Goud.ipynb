{
 "cells": [
  {
   "cell_type": "markdown",
   "id": "38d6971f",
   "metadata": {},
   "source": [
    "# CSCE 5150 – Analysis of Computer Algorithms\n",
    "# Programming Assignment 1 – Divide and Conquer\n",
    "# Neha Goud Baddam\n",
    "# 11519516"
   ]
  },
  {
   "cell_type": "markdown",
   "id": "22017756",
   "metadata": {},
   "source": [
    "A computer program to implement the Strassen’ algorithm for matrix multiplication."
   ]
  },
  {
   "cell_type": "code",
   "execution_count": 1,
   "id": "57e501c0",
   "metadata": {},
   "outputs": [],
   "source": [
    "import numpy as np\n",
    "\n",
    "#below is the function defined for strassens algorithm\n",
    "# we are passing x and y matrices as parameters\n",
    "def strassen(matrix_A, matrix_B):\n",
    "    \n",
    "    #if the size of the matrix is 1, then just multiply the matrices\n",
    "    if matrix_A.size == 1 or matrix_B.size == 1:\n",
    "        return matrix_A * matrix_B\n",
    "    \n",
    "    #firstly we get the size of the matrix\n",
    "    sizeOfMatrix = matrix_A.shape[0]\n",
    "    \n",
    "    #if the size of the matrix is odd, we pad the matrix with zeros to get a even sized matrix\n",
    "    if sizeOfMatrix % 2 == 1:\n",
    "        matrix_A  = np.pad(matrix_A, (0, 1), mode='constant')\n",
    "        matrix_B = np.pad(matrix_B, (0, 1), mode='constant')\n",
    "    \n",
    "    #now we divide the matrix A and matrix B into half and store it in the below variables\n",
    "    #get the nearsest interger of size of the matrix / 2 \n",
    "    halfOfSize= int(np.ceil(sizeOfMatrix / 2))\n",
    "    \n",
    "    #partitioning into sub matrices\n",
    "    A11 = matrix_A[: halfOfSize, : halfOfSize]\n",
    "    A12 = matrix_A[: halfOfSize, halfOfSize:]\n",
    "    A21 = matrix_A[halfOfSize:, : halfOfSize]\n",
    "    A22 = matrix_A[halfOfSize:, halfOfSize:]\n",
    "    B11 = matrix_B[: halfOfSize, : halfOfSize]\n",
    "    B12 = matrix_B[: halfOfSize, halfOfSize:]\n",
    "    B21 = matrix_B[halfOfSize:, : halfOfSize]\n",
    "    B22 = matrix_B[halfOfSize:, halfOfSize:]\n",
    "    \n",
    "    #finding the sum and differences of the matrices based on the below formulas\n",
    "    s1 = B12 - B22\n",
    "    s2 = A11 + A12\n",
    "    s3 = A21 + A22 \n",
    "    s4 = B21 - B11\n",
    "    s5 = A11 + A22\n",
    "    s6 = B11 + B22\n",
    "    s7 = A12 - A22\n",
    "    s8 = B21 + B22\n",
    "    s9 = A11 - A21\n",
    "    s10= B11 + B12\n",
    "    \n",
    "    #finding the product of the matrices using the below formula\n",
    "    #recurssively call the function strassen to divide the matrix until it cannoyt further be divided into \n",
    "    #any submatrix\n",
    "    \n",
    "    p1 = strassen(A11, s1)\n",
    "    p2 = strassen(s2, B22)\n",
    "    p3 = strassen(s3, B11)\n",
    "    p4 = strassen(A22, s4)\n",
    "    p5 = strassen(s5, s6)\n",
    "    p6 = strassen(s7, s8)\n",
    "    p7 = strassen(s9, s10)\n",
    "    \n",
    "    #now finally create a result matrix of original size of mtraix A and B and store the result\n",
    "    \n",
    "    matrix_C = np.zeros((2 * halfOfSize, 2 * halfOfSize), dtype=np.int32)\n",
    "    \n",
    "    matrix_C[: halfOfSize, : halfOfSize] = p5 + p4 - p2 + p6\n",
    "    matrix_C[: halfOfSize, halfOfSize:] = p1 + p2\n",
    "    matrix_C[halfOfSize:, : halfOfSize] = p3 + p4\n",
    "    matrix_C[halfOfSize:, halfOfSize:] = p1 + p5 - p3 - p7\n",
    "    \n",
    "    #now we return the matrix_c value that has the result \n",
    "    return matrix_C[: sizeOfMatrix, : sizeOfMatrix]\n",
    "\n"
   ]
  },
  {
   "cell_type": "code",
   "execution_count": 2,
   "id": "eda6c206",
   "metadata": {},
   "outputs": [
    {
     "name": "stdout",
     "output_type": "stream",
     "text": [
      "Enter matrix size for matrix A and matrix B : 2\n",
      "Enter numbers in the first matrix A, one after the other: 1\n",
      "Enter numbers in the first matrix A, one after the other: 3\n",
      "Enter numbers in the first matrix A, one after the other: 7\n",
      "Enter numbers in the first matrix A, one after the other: 5\n",
      "Enter numbers in the second matrix B, one after the other: 6\n",
      "Enter numbers in the second matrix B, one after the other: 8\n",
      "Enter numbers in the second matrix B, one after the other: 4\n",
      "Enter numbers in the second matrix B, one after the other: 2\n",
      "Below is the matrix_A [[1. 3.]\n",
      " [7. 5.]]\n",
      "Below is the matrix_B [[6. 8.]\n",
      " [4. 2.]]\n",
      "Strassens Matrix multiplication result for above matrix_A and matrix_B is : \n",
      "[[18 14]\n",
      " [62 66]]\n"
     ]
    }
   ],
   "source": [
    "\n",
    "#take the size of matrix as input\n",
    "matrixSize = int(input(\"Enter matrix size for matrix A and matrix B : \"))\n",
    " \n",
    "#create two arrays of size given above\n",
    "arr1 = np.zeros(shape = (matrixSize,matrixSize))\n",
    "arr2 = np.zeros(shape = (matrixSize,matrixSize))\n",
    "\n",
    "#take matrix A and matrix B as input for matrix multiplication\n",
    "for i in range(0,matrixSize):\n",
    "    for j in range(0,matrixSize):\n",
    "        arr1[i][j] = input(\"Enter numbers in the first matrix A, one after the other: \")\n",
    "\n",
    "for i in range(0,matrixSize):\n",
    "    for j in range(0,matrixSize):\n",
    "        arr2[i][j] = input(\"Enter numbers in the second matrix B, one after the other: \")\n",
    "\n",
    "print(\"Below is the matrix_A\",arr1)\n",
    "print(\"Below is the matrix_B\",arr2)\n",
    "\n",
    "\n",
    "matrix_A = np.array(arr1)\n",
    "matrix_B = np.array(arr2)\n",
    "\n",
    "print('Strassens Matrix multiplication result for above matrix_A and matrix_B is : ')\n",
    "print(strassen(matrix_A, matrix_B))\n",
    "\n"
   ]
  },
  {
   "cell_type": "code",
   "execution_count": null,
   "id": "f766fdd5",
   "metadata": {},
   "outputs": [],
   "source": []
  }
 ],
 "metadata": {
  "kernelspec": {
   "display_name": "Python 3 (ipykernel)",
   "language": "python",
   "name": "python3"
  },
  "language_info": {
   "codemirror_mode": {
    "name": "ipython",
    "version": 3
   },
   "file_extension": ".py",
   "mimetype": "text/x-python",
   "name": "python",
   "nbconvert_exporter": "python",
   "pygments_lexer": "ipython3",
   "version": "3.9.7"
  }
 },
 "nbformat": 4,
 "nbformat_minor": 5
}
